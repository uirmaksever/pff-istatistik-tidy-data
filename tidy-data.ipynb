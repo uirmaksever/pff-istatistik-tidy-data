{
 "cells": [
  {
   "cell_type": "code",
   "execution_count": 127,
   "metadata": {
    "collapsed": true,
    "pycharm": {
     "is_executing": false
    }
   },
   "outputs": [
    {
     "name": "stdout",
     "text": [
      "\n"
     ],
     "output_type": "stream"
    }
   ],
   "source": [
    "import pandas as pd\n",
    "\n",
    "with open(\"KASIM İSTATİSTİK.xlsx\", mode=\"rb\") as file:\n",
    "    print()\n",
    "\n",
    "    incoming_data_pd = pd.read_excel(file, header=[0])\n",
    "    date_cols_clean_pd = pd.read_excel(file, sheet_name=\"cols_tidy\", index_col=\"date_str\")\n",
    "    \n",
    "monthly_2019_cols = [\"violation_type\",\n",
    "                     \"main_category\",                     \n",
    "                     \"Ocak / January 2019\",\n",
    "                    \"Şubat / February 2019\",\n",
    "                    \"Mart / March 2019\",\n",
    "                    \"Nisan /April 2019\",\n",
    "                    \"Mayıs / May 2019\",\n",
    "                    \"Haziran / June 2019\",\n",
    "                    \"Temmuz / July 2019\",\n",
    "                    \"Ağustos / August 2019\",\n",
    "                    \"Eylül / September 2019\",\n",
    "                    \"Ekim / October 2019\",\n",
    "                    \"Kasım / November 2019\",\n",
    "                    \"Aralık / December 2019\"]\n",
    "\n",
    "yearly_2019_cols = [\"violation_type\",\n",
    "                    \"main_category\",  \n",
    "                    2015,\n",
    "                    2016,\n",
    "                    2017,\n",
    "                    2018,\n",
    "                    2019\n",
    "]\n",
    "yearly_2019_pd = pd.DataFrame(incoming_data_pd)[yearly_2019_cols]\n",
    "monthly_2019_pd = pd.DataFrame(incoming_data_pd)[monthly_2019_cols]\n"
   ]
  },
  {
   "cell_type": "code",
   "execution_count": 112,
   "outputs": [],
   "source": [
    "cols_to_be_tidied = [ # \"2015\",\n",
    "# \"2016\",\n",
    "# \"2017\",\n",
    "# \"2018\",\n",
    "# \"Ocak / January\",\n",
    "# \"Şubat / February\",\n",
    "# \"Mart / March\",\n",
    "# \"Nisan /April\",\n",
    "# \"Mayıs / May\",\n",
    "# \"Haziran / June\",\n",
    "# \"Temmuz / July\",\n",
    "# \"Ağustos / August\",\n",
    "# \"Eylül / September\",\n",
    "# \"Ekim / October\",\n",
    "# \"Kasım / November\",\n",
    "# \"Aralık / December\",\n",
    "# \"2019\",\n",
    "\"Ocak / January 2019\",\n",
    "\"Şubat / February 2019\",\n",
    "\"Mart / March 2019\",\n",
    "\"Nisan /April 2019\",\n",
    "\"Mayıs / May 2019\",\n",
    "\"Haziran / June 2019\",\n",
    "\"Temmuz / July 2019\",\n",
    "\"Ağustos / August 2019\",\n",
    "\"Eylül / September 2019\",\n",
    "\"Ekim / October 2019\",\n",
    "\"Kasım / November 2019\",\n",
    "\"Aralık / December 2019\",\n",
    "# \"2020\",\n",
    "# \"Ocak / January 2020\",\n",
    "# \"Şubat / February 2020\",\n",
    "# \"Mart / March 2020\",\n",
    "# \"Nisan /April 2020\",\n",
    "# \"Mayıs / May 2020\",\n",
    "# \"Haziran / June 2020\",\n",
    "# \"Temmuz / July 2020\",\n",
    "# \"Ağustos / August 2020\",\n",
    "# \"Eylül / September 2020\",\n",
    "# \"Ekim / October 2020\",\n",
    "# \"Kasım / November 2020\",\n",
    "# \"Aralık / December 2020\"\n",
    "    ]\n",
    "\n"
   ],
   "metadata": {
    "collapsed": false,
    "pycharm": {
     "name": "#%%\n",
     "is_executing": false
    }
   }
  },
  {
   "cell_type": "code",
   "execution_count": 130,
   "outputs": [
    {
     "data": {
      "text/plain": "                                  violation_type  \\\n0                            Sansür / Censorship   \n1                                            NaN   \n2               Sansür Şekli /Form of Censorship   \n3    Akreditasyon Olayı / Cases of Accreditation   \n4                Yayın Engeli / Media Suspension   \n..                                           ...   \n112                  Hakaret / Defamation Cases    \n113                                      Fezleke   \n114                   Beraat Edenler / Acquittal   \n115                 Serbest Bırakılma / Released   \n116                               Toplam / Total   \n\n                          main_category  2015_oncesi_ay_eksik   2015    2016  \\\n0                   Sansür / Censorship                  93.0  940.0  2910.0   \n1                                   NaN                   NaN    NaN     NaN   \n2      Sansür Şekli /Form of Censorship                   NaN    NaN     NaN   \n3      Sansür Şekli /Form of Censorship                  24.0   31.0     3.0   \n4      Sansür Şekli /Form of Censorship                  23.0  107.0   232.0   \n..                                  ...                   ...    ...     ...   \n112  Siyasiler ile ilgili Adli İşlemler                   NaN    NaN     NaN   \n113  Siyasiler ile ilgili Adli İşlemler                   NaN    NaN     NaN   \n114  Siyasiler ile ilgili Adli İşlemler                   NaN    NaN     NaN   \n115  Siyasiler ile ilgili Adli İşlemler                   NaN    NaN     NaN   \n116  Siyasiler ile ilgili Adli İşlemler                   NaN    NaN     NaN   \n\n     2017   2018  Ocak / January  Şubat / February  Mart / March  ...  \\\n0    72.0  465.0             3.0              10.0          64.0  ...   \n1     NaN    NaN             NaN               NaN           NaN  ...   \n2     NaN    NaN             NaN               NaN           NaN  ...   \n3     2.0    7.0             NaN               NaN           NaN  ...   \n4     9.0   28.0             NaN               1.0           2.0  ...   \n..    ...    ...             ...               ...           ...  ...   \n112   NaN    NaN             NaN               NaN           NaN  ...   \n113   NaN    NaN             NaN               NaN           NaN  ...   \n114   NaN    NaN             NaN               NaN           NaN  ...   \n115   NaN    NaN             NaN               NaN           NaN  ...   \n116   NaN    NaN             NaN               NaN           NaN  ...   \n\n     Mart / March 2020  Nisan /April 2020  Mayıs / May 2020  \\\n0                  NaN                NaN               NaN   \n1                  NaN                NaN               NaN   \n2                  NaN                NaN               NaN   \n3                  NaN                NaN               NaN   \n4                  NaN                NaN               NaN   \n..                 ...                ...               ...   \n112                NaN                NaN               NaN   \n113                NaN                NaN               NaN   \n114                NaN                NaN               NaN   \n115                NaN                NaN               NaN   \n116                NaN                NaN               NaN   \n\n     Haziran / June 2020  Temmuz / July 2020  Ağustos / August 2020  \\\n0                    NaN                 NaN                    NaN   \n1                    NaN                 NaN                    NaN   \n2                    NaN                 NaN                    NaN   \n3                    NaN                 NaN                    NaN   \n4                    NaN                 NaN                    NaN   \n..                   ...                 ...                    ...   \n112                  NaN                 NaN                    NaN   \n113                  NaN                 NaN                    NaN   \n114                  NaN                 NaN                    NaN   \n115                  NaN                 NaN                    NaN   \n116                  NaN                 NaN                    NaN   \n\n     Eylül / September 2020  Ekim / October 2020  Kasım / November 2020  \\\n0                       NaN                  NaN                    NaN   \n1                       NaN                  NaN                    NaN   \n2                       NaN                  NaN                    NaN   \n3                       NaN                  NaN                    NaN   \n4                       NaN                  NaN                    NaN   \n..                      ...                  ...                    ...   \n112                     NaN                  NaN                    NaN   \n113                     NaN                  NaN                    NaN   \n114                     NaN                  NaN                    NaN   \n115                     NaN                  NaN                    NaN   \n116                     NaN                  NaN                    NaN   \n\n     Aralık / December 2020  \n0                       NaN  \n1                       NaN  \n2                       NaN  \n3                       NaN  \n4                       NaN  \n..                      ...  \n112                     NaN  \n113                     NaN  \n114                     NaN  \n115                     NaN  \n116                     NaN  \n\n[117 rows x 45 columns]",
      "text/html": "<div>\n<style scoped>\n    .dataframe tbody tr th:only-of-type {\n        vertical-align: middle;\n    }\n\n    .dataframe tbody tr th {\n        vertical-align: top;\n    }\n\n    .dataframe thead th {\n        text-align: right;\n    }\n</style>\n<table border=\"1\" class=\"dataframe\">\n  <thead>\n    <tr style=\"text-align: right;\">\n      <th></th>\n      <th>violation_type</th>\n      <th>main_category</th>\n      <th>2015_oncesi_ay_eksik</th>\n      <th>2015</th>\n      <th>2016</th>\n      <th>2017</th>\n      <th>2018</th>\n      <th>Ocak / January</th>\n      <th>Şubat / February</th>\n      <th>Mart / March</th>\n      <th>...</th>\n      <th>Mart / March 2020</th>\n      <th>Nisan /April 2020</th>\n      <th>Mayıs / May 2020</th>\n      <th>Haziran / June 2020</th>\n      <th>Temmuz / July 2020</th>\n      <th>Ağustos / August 2020</th>\n      <th>Eylül / September 2020</th>\n      <th>Ekim / October 2020</th>\n      <th>Kasım / November 2020</th>\n      <th>Aralık / December 2020</th>\n    </tr>\n  </thead>\n  <tbody>\n    <tr>\n      <td>0</td>\n      <td>Sansür / Censorship</td>\n      <td>Sansür / Censorship</td>\n      <td>93.0</td>\n      <td>940.0</td>\n      <td>2910.0</td>\n      <td>72.0</td>\n      <td>465.0</td>\n      <td>3.0</td>\n      <td>10.0</td>\n      <td>64.0</td>\n      <td>...</td>\n      <td>NaN</td>\n      <td>NaN</td>\n      <td>NaN</td>\n      <td>NaN</td>\n      <td>NaN</td>\n      <td>NaN</td>\n      <td>NaN</td>\n      <td>NaN</td>\n      <td>NaN</td>\n      <td>NaN</td>\n    </tr>\n    <tr>\n      <td>1</td>\n      <td>NaN</td>\n      <td>NaN</td>\n      <td>NaN</td>\n      <td>NaN</td>\n      <td>NaN</td>\n      <td>NaN</td>\n      <td>NaN</td>\n      <td>NaN</td>\n      <td>NaN</td>\n      <td>NaN</td>\n      <td>...</td>\n      <td>NaN</td>\n      <td>NaN</td>\n      <td>NaN</td>\n      <td>NaN</td>\n      <td>NaN</td>\n      <td>NaN</td>\n      <td>NaN</td>\n      <td>NaN</td>\n      <td>NaN</td>\n      <td>NaN</td>\n    </tr>\n    <tr>\n      <td>2</td>\n      <td>Sansür Şekli /Form of Censorship</td>\n      <td>Sansür Şekli /Form of Censorship</td>\n      <td>NaN</td>\n      <td>NaN</td>\n      <td>NaN</td>\n      <td>NaN</td>\n      <td>NaN</td>\n      <td>NaN</td>\n      <td>NaN</td>\n      <td>NaN</td>\n      <td>...</td>\n      <td>NaN</td>\n      <td>NaN</td>\n      <td>NaN</td>\n      <td>NaN</td>\n      <td>NaN</td>\n      <td>NaN</td>\n      <td>NaN</td>\n      <td>NaN</td>\n      <td>NaN</td>\n      <td>NaN</td>\n    </tr>\n    <tr>\n      <td>3</td>\n      <td>Akreditasyon Olayı / Cases of Accreditation</td>\n      <td>Sansür Şekli /Form of Censorship</td>\n      <td>24.0</td>\n      <td>31.0</td>\n      <td>3.0</td>\n      <td>2.0</td>\n      <td>7.0</td>\n      <td>NaN</td>\n      <td>NaN</td>\n      <td>NaN</td>\n      <td>...</td>\n      <td>NaN</td>\n      <td>NaN</td>\n      <td>NaN</td>\n      <td>NaN</td>\n      <td>NaN</td>\n      <td>NaN</td>\n      <td>NaN</td>\n      <td>NaN</td>\n      <td>NaN</td>\n      <td>NaN</td>\n    </tr>\n    <tr>\n      <td>4</td>\n      <td>Yayın Engeli / Media Suspension</td>\n      <td>Sansür Şekli /Form of Censorship</td>\n      <td>23.0</td>\n      <td>107.0</td>\n      <td>232.0</td>\n      <td>9.0</td>\n      <td>28.0</td>\n      <td>NaN</td>\n      <td>1.0</td>\n      <td>2.0</td>\n      <td>...</td>\n      <td>NaN</td>\n      <td>NaN</td>\n      <td>NaN</td>\n      <td>NaN</td>\n      <td>NaN</td>\n      <td>NaN</td>\n      <td>NaN</td>\n      <td>NaN</td>\n      <td>NaN</td>\n      <td>NaN</td>\n    </tr>\n    <tr>\n      <td>...</td>\n      <td>...</td>\n      <td>...</td>\n      <td>...</td>\n      <td>...</td>\n      <td>...</td>\n      <td>...</td>\n      <td>...</td>\n      <td>...</td>\n      <td>...</td>\n      <td>...</td>\n      <td>...</td>\n      <td>...</td>\n      <td>...</td>\n      <td>...</td>\n      <td>...</td>\n      <td>...</td>\n      <td>...</td>\n      <td>...</td>\n      <td>...</td>\n      <td>...</td>\n      <td>...</td>\n    </tr>\n    <tr>\n      <td>112</td>\n      <td>Hakaret / Defamation Cases</td>\n      <td>Siyasiler ile ilgili Adli İşlemler</td>\n      <td>NaN</td>\n      <td>NaN</td>\n      <td>NaN</td>\n      <td>NaN</td>\n      <td>NaN</td>\n      <td>NaN</td>\n      <td>NaN</td>\n      <td>NaN</td>\n      <td>...</td>\n      <td>NaN</td>\n      <td>NaN</td>\n      <td>NaN</td>\n      <td>NaN</td>\n      <td>NaN</td>\n      <td>NaN</td>\n      <td>NaN</td>\n      <td>NaN</td>\n      <td>NaN</td>\n      <td>NaN</td>\n    </tr>\n    <tr>\n      <td>113</td>\n      <td>Fezleke</td>\n      <td>Siyasiler ile ilgili Adli İşlemler</td>\n      <td>NaN</td>\n      <td>NaN</td>\n      <td>NaN</td>\n      <td>NaN</td>\n      <td>NaN</td>\n      <td>NaN</td>\n      <td>NaN</td>\n      <td>NaN</td>\n      <td>...</td>\n      <td>NaN</td>\n      <td>NaN</td>\n      <td>NaN</td>\n      <td>NaN</td>\n      <td>NaN</td>\n      <td>NaN</td>\n      <td>NaN</td>\n      <td>NaN</td>\n      <td>NaN</td>\n      <td>NaN</td>\n    </tr>\n    <tr>\n      <td>114</td>\n      <td>Beraat Edenler / Acquittal</td>\n      <td>Siyasiler ile ilgili Adli İşlemler</td>\n      <td>NaN</td>\n      <td>NaN</td>\n      <td>NaN</td>\n      <td>NaN</td>\n      <td>NaN</td>\n      <td>NaN</td>\n      <td>NaN</td>\n      <td>NaN</td>\n      <td>...</td>\n      <td>NaN</td>\n      <td>NaN</td>\n      <td>NaN</td>\n      <td>NaN</td>\n      <td>NaN</td>\n      <td>NaN</td>\n      <td>NaN</td>\n      <td>NaN</td>\n      <td>NaN</td>\n      <td>NaN</td>\n    </tr>\n    <tr>\n      <td>115</td>\n      <td>Serbest Bırakılma / Released</td>\n      <td>Siyasiler ile ilgili Adli İşlemler</td>\n      <td>NaN</td>\n      <td>NaN</td>\n      <td>NaN</td>\n      <td>NaN</td>\n      <td>NaN</td>\n      <td>NaN</td>\n      <td>NaN</td>\n      <td>NaN</td>\n      <td>...</td>\n      <td>NaN</td>\n      <td>NaN</td>\n      <td>NaN</td>\n      <td>NaN</td>\n      <td>NaN</td>\n      <td>NaN</td>\n      <td>NaN</td>\n      <td>NaN</td>\n      <td>NaN</td>\n      <td>NaN</td>\n    </tr>\n    <tr>\n      <td>116</td>\n      <td>Toplam / Total</td>\n      <td>Siyasiler ile ilgili Adli İşlemler</td>\n      <td>NaN</td>\n      <td>NaN</td>\n      <td>NaN</td>\n      <td>NaN</td>\n      <td>NaN</td>\n      <td>NaN</td>\n      <td>NaN</td>\n      <td>NaN</td>\n      <td>...</td>\n      <td>NaN</td>\n      <td>NaN</td>\n      <td>NaN</td>\n      <td>NaN</td>\n      <td>NaN</td>\n      <td>NaN</td>\n      <td>NaN</td>\n      <td>NaN</td>\n      <td>NaN</td>\n      <td>NaN</td>\n    </tr>\n  </tbody>\n</table>\n<p>117 rows × 45 columns</p>\n</div>"
     },
     "metadata": {},
     "output_type": "execute_result",
     "execution_count": 130
    }
   ],
   "source": [
    "incoming_data_pd\n"
   ],
   "metadata": {
    "collapsed": false,
    "pycharm": {
     "name": "#%%\n",
     "is_executing": false
    }
   }
  },
  {
   "cell_type": "code",
   "execution_count": 128,
   "outputs": [],
   "source": [
    "formatted_pd = pd.melt(monthly_2019_pd, id_vars=[\"violation_type\", \"main_category\"],\n",
    "                       var_name=\"period_date\",\n",
    "                       value_vars=monthly_2019_cols[2:],\n",
    "                       value_name=\"n_of_violation\")\n"
   ],
   "metadata": {
    "collapsed": false,
    "pycharm": {
     "name": "#%%\n",
     "is_executing": false
    }
   }
  },
  {
   "cell_type": "code",
   "execution_count": 131,
   "outputs": [
    {
     "traceback": [
      "\u001b[1;31m---------------------------------------------------------------------------\u001b[0m",
      "\u001b[1;31mKeyError\u001b[0m                                  Traceback (most recent call last)",
      "\u001b[1;32m<ipython-input-131-df42bcea8011>\u001b[0m in \u001b[0;36m<module>\u001b[1;34m\u001b[0m\n\u001b[0;32m      2\u001b[0m                        \u001b[0mvar_name\u001b[0m\u001b[1;33m=\u001b[0m\u001b[1;34m\"period_date\"\u001b[0m\u001b[1;33m,\u001b[0m\u001b[1;33m\u001b[0m\u001b[1;33m\u001b[0m\u001b[0m\n\u001b[0;32m      3\u001b[0m                        \u001b[0mvalue_vars\u001b[0m\u001b[1;33m=\u001b[0m\u001b[0myearly_2019_cols\u001b[0m\u001b[1;33m[\u001b[0m\u001b[1;36m2\u001b[0m\u001b[1;33m:\u001b[0m\u001b[1;33m]\u001b[0m\u001b[1;33m,\u001b[0m\u001b[1;33m\u001b[0m\u001b[1;33m\u001b[0m\u001b[0m\n\u001b[1;32m----> 4\u001b[1;33m                        value_name=\"n_of_violation\")\n\u001b[0m",
      "\u001b[1;32mc:\\users\\da12\\appdata\\local\\programs\\python\\python36\\lib\\site-packages\\pandas\\core\\reshape\\melt.py\u001b[0m in \u001b[0;36mmelt\u001b[1;34m(frame, id_vars, value_vars, var_name, value_name, col_level)\u001b[0m\n\u001b[0;32m     50\u001b[0m                     \u001b[1;34m\"The following 'id_vars' are not present\"\u001b[0m\u001b[1;33m\u001b[0m\u001b[1;33m\u001b[0m\u001b[0m\n\u001b[0;32m     51\u001b[0m                     \u001b[1;34m\" in the DataFrame: {missing}\"\u001b[0m\u001b[1;33m\u001b[0m\u001b[1;33m\u001b[0m\u001b[0m\n\u001b[1;32m---> 52\u001b[1;33m                     \u001b[1;34m\"\"\u001b[0m\u001b[1;33m.\u001b[0m\u001b[0mformat\u001b[0m\u001b[1;33m(\u001b[0m\u001b[0mmissing\u001b[0m\u001b[1;33m=\u001b[0m\u001b[0mlist\u001b[0m\u001b[1;33m(\u001b[0m\u001b[0mmissing\u001b[0m\u001b[1;33m)\u001b[0m\u001b[1;33m)\u001b[0m\u001b[1;33m\u001b[0m\u001b[1;33m\u001b[0m\u001b[0m\n\u001b[0m\u001b[0;32m     53\u001b[0m                 )\n\u001b[0;32m     54\u001b[0m     \u001b[1;32melse\u001b[0m\u001b[1;33m:\u001b[0m\u001b[1;33m\u001b[0m\u001b[1;33m\u001b[0m\u001b[0m\n",
      "\u001b[1;31mKeyError\u001b[0m: \"The following 'id_vars' are not present in the DataFrame: ['main_category', 'violation_type']\""
     ],
     "ename": "KeyError",
     "evalue": "\"The following 'id_vars' are not present in the DataFrame: ['main_category', 'violation_type']\"",
     "output_type": "error"
    }
   ],
   "source": [
    "formatted_pd = pd.melt(yearly_2019_pd, id_vars=[\"violation_type\", \"main_category\"],\n",
    "                       var_name=\"period_date\",\n",
    "                       value_vars=yearly_2019_cols[2:],\n",
    "                       value_name=\"n_of_violation\")"
   ],
   "metadata": {
    "collapsed": false,
    "pycharm": {
     "name": "#%%\n",
     "is_executing": false
    }
   }
  },
  {
   "cell_type": "code",
   "execution_count": 126,
   "outputs": [],
   "source": [
    "formatted_pd.to_excel(\"export.xlsx\")"
   ],
   "metadata": {
    "collapsed": false,
    "pycharm": {
     "name": "#%%\n",
     "is_executing": false
    }
   }
  },
  {
   "cell_type": "code",
   "execution_count": 134,
   "outputs": [
    {
     "data": {
      "text/plain": "<bound method DataFrame.drop of                                    violation_type  \\\n0                             Sansür / Censorship   \n1                                             NaN   \n2                Sansür Şekli /Form of Censorship   \n3     Akreditasyon Olayı / Cases of Accreditation   \n4                 Yayın Engeli / Media Suspension   \n...                                           ...   \n1399                  Hakaret / Defamation Cases    \n1400                                      Fezleke   \n1401                   Beraat Edenler / Acquittal   \n1402                 Serbest Bırakılma / Released   \n1403                               Toplam / Total   \n\n                           main_category             period_date  \\\n0                    Sansür / Censorship     Ocak / January 2019   \n1                                    NaN     Ocak / January 2019   \n2       Sansür Şekli /Form of Censorship     Ocak / January 2019   \n3       Sansür Şekli /Form of Censorship     Ocak / January 2019   \n4       Sansür Şekli /Form of Censorship     Ocak / January 2019   \n...                                  ...                     ...   \n1399  Siyasiler ile ilgili Adli İşlemler  Aralık / December 2019   \n1400  Siyasiler ile ilgili Adli İşlemler  Aralık / December 2019   \n1401  Siyasiler ile ilgili Adli İşlemler  Aralık / December 2019   \n1402  Siyasiler ile ilgili Adli İşlemler  Aralık / December 2019   \n1403  Siyasiler ile ilgili Adli İşlemler  Aralık / December 2019   \n\n      n_of_violation period_date_clean  \n0                NaN        2019-01-01  \n1                NaN        2019-01-01  \n2                NaN        2019-01-01  \n3                NaN        2019-01-01  \n4                1.0        2019-01-01  \n...              ...               ...  \n1399             NaN        2019-12-01  \n1400             NaN        2019-12-01  \n1401             NaN        2019-12-01  \n1402             NaN        2019-12-01  \n1403             0.0        2019-12-01  \n\n[1404 rows x 5 columns]>"
     },
     "metadata": {},
     "output_type": "execute_result",
     "execution_count": 134
    }
   ],
   "source": [
    "date_cols_clean_dict = date_cols_clean_pd.to_dict()\n",
    "formatted_pd[\"period_date_clean\"] = formatted_pd[\"period_date\"].apply(lambda x: date_cols_clean_dict[\"clean_date\"][x])\n",
    "formatted_pd.drop"
   ],
   "metadata": {
    "collapsed": false,
    "pycharm": {
     "name": "#%%\n",
     "is_executing": false
    }
   }
  },
  {
   "cell_type": "code",
   "execution_count": 137,
   "outputs": [
    {
     "data": {
      "text/plain": "<matplotlib.axes._subplots.AxesSubplot at 0x175ba584be0>"
     },
     "metadata": {},
     "output_type": "execute_result",
     "execution_count": 137
    },
    {
     "data": {
      "text/plain": "<Figure size 432x288 with 1 Axes>",
      "image/png": "[encoded data removed]"
     },
     "metadata": {
      "needs_background": "light"
     },
     "output_type": "display_data"
    }
   ],
   "source": [
    "formatted_pd[\"n_of_violation\"].plot()"
   ],
   "metadata": {
    "collapsed": false,
    "pycharm": {
     "name": "#%%\n",
     "is_executing": false
    }
   }
  }
 ],
 "metadata": {
  "language_info": {
   "codemirror_mode": {
    "name": "ipython",
    "version": 2
   },
   "file_extension": ".py",
   "mimetype": "text/x-python",
   "name": "python",
   "nbconvert_exporter": "python",
   "pygments_lexer": "ipython2",
   "version": "2.7.6"
  },
  "kernelspec": {
   "name": "python3",
   "language": "python",
   "display_name": "Python 3"
  },
  "pycharm": {
   "stem_cell": {
    "cell_type": "raw",
    "source": [],
    "metadata": {
     "collapsed": false
    }
   }
  }
 },
 "nbformat": 4,
 "nbformat_minor": 0
}